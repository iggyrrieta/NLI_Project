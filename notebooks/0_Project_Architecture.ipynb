{
 "cells": [
  {
   "cell_type": "markdown",
   "metadata": {},
   "source": [
    "# Architecture"
   ]
  },
  {
   "cell_type": "markdown",
   "metadata": {},
   "source": [
    "This project consists on a goal oriented agent working on a `Flask` web based interface. The agent is a **guide tour agent**."
   ]
  },
  {
   "cell_type": "markdown",
   "metadata": {},
   "source": [
    "![Architecture](../img/Project_architecture.png)"
   ]
  },
  {
   "cell_type": "markdown",
   "metadata": {},
   "source": [
    "## Guide Tour Agent"
   ]
  },
  {
   "cell_type": "markdown",
   "metadata": {},
   "source": [
    "![Architecture](../img/Flow_architecture.png)"
   ]
  },
  {
   "cell_type": "markdown",
   "metadata": {},
   "source": [
    "Where:\n",
    "\n",
    "**Speech Recognition** `/sp_recognition`\n",
    "\n",
    "- Get audio and transform it to text\n",
    "\n",
    "**Natural Language Understanding** `/nlu_core`\n",
    "\n",
    "- Syntactic analysis (based on trained data)\n",
    "- Semantic analysis (based on trained data)\n",
    "- Training module\n",
    "\n",
    "**Dialogue Manager** `/dm_core`\n",
    "\n",
    "- Manager of all processes (dealer)\n",
    "- State tracker (history of the current conversation)\n",
    "\n",
    "    - `/ct_interest`\n",
    "    - `/ct_restaurant`\n",
    "    - ...\n",
    "    \n",
    "\n",
    "**Natural Language Generator** `/nlg_core`\n",
    "\n",
    "- Conversion to natural language"
   ]
  },
  {
   "cell_type": "code",
   "execution_count": null,
   "metadata": {},
   "outputs": [],
   "source": []
  }
 ],
 "metadata": {
  "kernelspec": {
   "display_name": "DS",
   "language": "python",
   "name": "ds"
  },
  "language_info": {
   "codemirror_mode": {
    "name": "ipython",
    "version": 3
   },
   "file_extension": ".py",
   "mimetype": "text/x-python",
   "name": "python",
   "nbconvert_exporter": "python",
   "pygments_lexer": "ipython3",
   "version": "3.6.8"
  },
  "toc": {
   "base_numbering": 1,
   "nav_menu": {},
   "number_sections": true,
   "sideBar": true,
   "skip_h1_title": false,
   "title_cell": "Table of Contents",
   "title_sidebar": "Contents",
   "toc_cell": false,
   "toc_position": {},
   "toc_section_display": true,
   "toc_window_display": false
  }
 },
 "nbformat": 4,
 "nbformat_minor": 2
}
