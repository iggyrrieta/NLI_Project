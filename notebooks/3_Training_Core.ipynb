{
 "cells": [
  {
   "cell_type": "code",
   "execution_count": 1,
   "metadata": {},
   "outputs": [
    {
     "data": {
      "text/html": [
       "<div>\n",
       "<style scoped>\n",
       "    .dataframe tbody tr th:only-of-type {\n",
       "        vertical-align: middle;\n",
       "    }\n",
       "\n",
       "    .dataframe tbody tr th {\n",
       "        vertical-align: top;\n",
       "    }\n",
       "\n",
       "    .dataframe thead th {\n",
       "        text-align: right;\n",
       "    }\n",
       "</style>\n",
       "<table border=\"1\" class=\"dataframe\">\n",
       "  <thead>\n",
       "    <tr style=\"text-align: right;\">\n",
       "      <th></th>\n",
       "      <th>intent</th>\n",
       "      <th>text</th>\n",
       "    </tr>\n",
       "  </thead>\n",
       "  <tbody>\n",
       "    <tr>\n",
       "      <th>0</th>\n",
       "      <td>greet</td>\n",
       "      <td>hi</td>\n",
       "    </tr>\n",
       "    <tr>\n",
       "      <th>1</th>\n",
       "      <td>greet</td>\n",
       "      <td>hello</td>\n",
       "    </tr>\n",
       "    <tr>\n",
       "      <th>2</th>\n",
       "      <td>greet</td>\n",
       "      <td>morning!</td>\n",
       "    </tr>\n",
       "    <tr>\n",
       "      <th>3</th>\n",
       "      <td>goodbye</td>\n",
       "      <td>bye!</td>\n",
       "    </tr>\n",
       "    <tr>\n",
       "      <th>4</th>\n",
       "      <td>goodbye</td>\n",
       "      <td>see you</td>\n",
       "    </tr>\n",
       "  </tbody>\n",
       "</table>\n",
       "</div>"
      ],
      "text/plain": [
       "    intent      text\n",
       "0    greet        hi\n",
       "1    greet     hello\n",
       "2    greet  morning!\n",
       "3  goodbye      bye!\n",
       "4  goodbye   see you"
      ]
     },
     "execution_count": 1,
     "metadata": {},
     "output_type": "execute_result"
    }
   ],
   "source": [
    "# READ DATA\n",
    "import spacy\n",
    "import pandas as pd\n",
    "from sklearn.preprocessing import LabelEncoder\n",
    "\n",
    "df = pd.read_csv('data/data.csv')\n",
    "df.head()"
   ]
  },
  {
   "cell_type": "code",
   "execution_count": 9,
   "metadata": {},
   "outputs": [
    {
     "name": "stdout",
     "output_type": "stream",
     "text": [
      "[1 1 1 0 0 2 2 2] ['goodbye' 'greet' 'restaurant_search']\n"
     ]
    }
   ],
   "source": [
    "import numpy as np\n",
    "\n",
    "# PRE-PROCESSING\n",
    "X_as_text = df['text']\n",
    "y_as_text = df['intent']\n",
    "\n",
    "# Tokenize the words for TRAIN\n",
    "nlp = spacy.load('en_core_web_lg')\n",
    "\n",
    "n_queries=len(X_as_text)\n",
    "dim_embedding = nlp.vocab.vectors_length\n",
    "X = np.zeros((n_queries, dim_embedding))\n",
    "\n",
    "for idx, sentence in enumerate(X_as_text):\n",
    "    doc = nlp(str(sentence))\n",
    "    X[idx, :] = doc.vector\n",
    "    \n",
    "# Encode labels\n",
    "le = LabelEncoder()\n",
    "y = le.fit_transform(y_as_text)\n",
    "\n",
    "print(le.classes_)"
   ]
  },
  {
   "cell_type": "code",
   "execution_count": 12,
   "metadata": {},
   "outputs": [
    {
     "name": "stderr",
     "output_type": "stream",
     "text": [
      "/opt/anaconda3/lib/python3.7/site-packages/sklearn/linear_model/logistic.py:433: FutureWarning: Default solver will be changed to 'lbfgs' in 0.22. Specify a solver to silence this warning.\n",
      "  FutureWarning)\n",
      "/opt/anaconda3/lib/python3.7/site-packages/sklearn/linear_model/logistic.py:460: FutureWarning: Default multi_class will be changed to 'auto' in 0.22. Specify the multi_class option to silence this warning.\n",
      "  \"this warning.\", FutureWarning)\n"
     ]
    },
    {
     "data": {
      "text/plain": [
       "array([[0.14679797, 0.58958513, 0.2636169 ]])"
      ]
     },
     "execution_count": 12,
     "metadata": {},
     "output_type": "execute_result"
    }
   ],
   "source": [
    "from sklearn.linear_model import LogisticRegression\n",
    "\n",
    "classifier = LogisticRegression(random_state=0).fit(X, y)\n",
    "\n",
    "classifier.predict(np.array(nlp('hi there').vector).reshape(1, -1))\n",
    "classifier.predict_proba(np.array(nlp('hi there').vector).reshape(1, -1))\n"
   ]
  },
  {
   "cell_type": "code",
   "execution_count": 57,
   "metadata": {},
   "outputs": [
    {
     "name": "stdout",
     "output_type": "stream",
     "text": [
      "Fitting 2 folds for each of 6 candidates, totalling 12 fits\n",
      "['mean_fit_time', 'mean_score_time', 'mean_test_score', 'param_C', 'param_kernel', 'params', 'rank_test_score', 'split0_test_score', 'split1_test_score', 'std_fit_time', 'std_score_time', 'std_test_score']\n",
      "Accuracy on Test Set:  1.0\n"
     ]
    },
    {
     "name": "stderr",
     "output_type": "stream",
     "text": [
      "[Parallel(n_jobs=1)]: Using backend SequentialBackend with 1 concurrent workers.\n",
      "[Parallel(n_jobs=1)]: Done  12 out of  12 | elapsed:    0.0s finished\n"
     ]
    }
   ],
   "source": [
    "# Search for the best model\n",
    "import numpy as np\n",
    "from sklearn import svm, datasets\n",
    "from sklearn.model_selection import GridSearchCV\n",
    "\n",
    "defaults = {                              \n",
    "    \"C\": [1, 2, 5, 10, 20, 100],\n",
    "    \"kernels\": [\"linear\"], \"max_cross_validation_folds\": 5\n",
    "}\n",
    "\n",
    "C = defaults[\"C\"]                       \n",
    "kernels = defaults[\"kernels\"]\n",
    "\n",
    "tuned_parameters = [{\"C\": C, \"kernel\": [str(k) for k in kernels]}]                                                                 \n",
    "folds = defaults[\"max_cross_validation_folds\"]\n",
    "cv_splits = max(2, min(folds, np.min(np.bincount(y)) // 5))\n",
    "\n",
    "svc = svm.SVC(C=1, probability=True, class_weight='balanced')\n",
    "clf = GridSearchCV( \n",
    "    svc,\n",
    "    param_grid=tuned_parameters, n_jobs=1, cv=cv_splits,         \n",
    "    scoring='f1_weighted', verbose=1)\n",
    "clf.fit(X, y)\n",
    "\n",
    "print(sorted(clf.cv_results_.keys()))\n",
    "print(\"Accuracy on Test Set: \",np.count_nonzero(clf.predict(X_test)==y_test)/len(y_test))"
   ]
  },
  {
   "cell_type": "code",
   "execution_count": 64,
   "metadata": {},
   "outputs": [
    {
     "name": "stdout",
     "output_type": "stream",
     "text": [
      "[1]\n"
     ]
    },
    {
     "data": {
      "text/plain": [
       "array(['greet'], dtype='<U17')"
      ]
     },
     "execution_count": 64,
     "metadata": {},
     "output_type": "execute_result"
    }
   ],
   "source": [
    "# Intent classification\n",
    "\n",
    "X_test = np.array(nlp('hi there').vector).reshape(1, -1)                   \n",
    "pred_result = clf.predict(X_test)\n",
    "print(pred_result)\n",
    "\n",
    "le.inverse_transform(pred_result)"
   ]
  },
  {
   "cell_type": "code",
   "execution_count": 72,
   "metadata": {},
   "outputs": [
    {
     "name": "stdout",
     "output_type": "stream",
     "text": [
      "mexican NORP\n"
     ]
    }
   ],
   "source": [
    "# Extract Entities\n",
    "\n",
    "# Option 1 - Use spaCy, it should be sufficient to what we want to do\n",
    "# but for sure we are going to need to train it better for improved outcome --> https://spacy.io/usage/training#training-data\n",
    "# In the example below you can see that it did not recognize restaurant as a NOUN\n",
    "doc = nlp('Suggest me some mexican restaurant')\n",
    "\n",
    "for ent in doc.ents:\n",
    "    print(ent, ent.label_)\n",
    "\n",
    "\n",
    "# Option 2 - A specialized-recognizer by using sklearn https://sklearn-crfsuite.readthedocs.io/en/latest/tutorial.html"
   ]
  },
  {
   "cell_type": "code",
   "execution_count": null,
   "metadata": {},
   "outputs": [],
   "source": []
  }
 ],
 "metadata": {
  "kernelspec": {
   "display_name": "Python 3",
   "language": "python",
   "name": "python3"
  },
  "language_info": {
   "codemirror_mode": {
    "name": "ipython",
    "version": 3
   },
   "file_extension": ".py",
   "mimetype": "text/x-python",
   "name": "python",
   "nbconvert_exporter": "python",
   "pygments_lexer": "ipython3",
   "version": "3.7.6"
  },
  "toc": {
   "base_numbering": 1,
   "nav_menu": {},
   "number_sections": true,
   "sideBar": true,
   "skip_h1_title": false,
   "title_cell": "Table of Contents",
   "title_sidebar": "Contents",
   "toc_cell": false,
   "toc_position": {},
   "toc_section_display": true,
   "toc_window_display": false
  }
 },
 "nbformat": 4,
 "nbformat_minor": 4
}
