{
 "cells": [
  {
   "cell_type": "markdown",
   "metadata": {},
   "source": [
    "# Reinforcement Learning"
   ]
  },
  {
   "cell_type": "markdown",
   "metadata": {},
   "source": [
    "This is a test option, studying the possibility of creating a dialogue manager based on reinforcement learning.\n",
    "\n",
    "Process:\n",
    "\n",
    "1. Observation of the environment\n",
    "2. Deciding how to act using some strategy\n",
    "3. Acting accordingly\n",
    "4. Receiving a reward or penalty\n",
    "5. Learning from the experiences and refining our strategy\n",
    "6. Iterate until an optimal strategy is found"
   ]
  },
  {
   "cell_type": "markdown",
   "metadata": {},
   "source": [
    "## Design"
   ]
  },
  {
   "cell_type": "markdown",
   "metadata": {},
   "source": [
    "### Rewards"
   ]
  },
  {
   "cell_type": "markdown",
   "metadata": {},
   "source": [
    "Agent should receive **positive rewards when**:\n",
    "\n",
    "- Client likes the proposal (i.e go to an specific restaurant, place)\n",
    "\n",
    "Agent should receive **negative rewards when**:\n",
    "\n",
    "- Client doesn't like the proposal"
   ]
  },
  {
   "cell_type": "markdown",
   "metadata": {},
   "source": [
    "### State"
   ]
  },
  {
   "cell_type": "markdown",
   "metadata": {},
   "source": [
    "In Reinforcement Learning, a state is the set of all possible situations we can face.\n",
    "\n",
    "\n",
    "1. Define **domain** --> [restaurant_search, interest_search, ...]\n",
    "2. Define **range of allowed values** based on **domain interest_search** --> [art, music, sport, culture]\n",
    "    \n",
    "    2.1. Get access to a database \n",
    "        - topic[0] --> Get all possibilities fitered\n",
    "        - topic[1] --> Get all possibilities fitered\n",
    "        - topic[2] --> Get all possibilities fitered\n",
    "        - topic[3] --> Get all possibilities fitered\n",
    "        \n",
    "    2.2. Answer with a possibility based on the db"
   ]
  },
  {
   "cell_type": "markdown",
   "metadata": {},
   "source": [
    "### Actions"
   ]
  },
  {
   "cell_type": "markdown",
   "metadata": {},
   "source": [
    "**Layer 0**\n",
    "\n",
    "- Topic selection -> [art, music, sport, culture]\n",
    "\n",
    "**Layer 1**\n",
    "\n",
    "- Time period selection -> [today, tomorrow, next week, next month, next year]\n",
    "\n",
    "...\n",
    "\n",
    "**Layer n**\n",
    "\n",
    "- Is the client happy? -> *somehow look for gratitude or bad manners from the client"
   ]
  },
  {
   "cell_type": "code",
   "execution_count": null,
   "metadata": {},
   "outputs": [],
   "source": []
  }
 ],
 "metadata": {
  "kernelspec": {
   "display_name": "DS",
   "language": "python",
   "name": "ds"
  },
  "language_info": {
   "codemirror_mode": {
    "name": "ipython",
    "version": 3
   },
   "file_extension": ".py",
   "mimetype": "text/x-python",
   "name": "python",
   "nbconvert_exporter": "python",
   "pygments_lexer": "ipython3",
   "version": "3.6.8"
  },
  "toc": {
   "base_numbering": 1,
   "nav_menu": {},
   "number_sections": true,
   "sideBar": true,
   "skip_h1_title": false,
   "title_cell": "Table of Contents",
   "title_sidebar": "Contents",
   "toc_cell": false,
   "toc_position": {},
   "toc_section_display": true,
   "toc_window_display": false
  }
 },
 "nbformat": 4,
 "nbformat_minor": 2
}
