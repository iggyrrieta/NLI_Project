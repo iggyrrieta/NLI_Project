{
 "cells": [
  {
   "cell_type": "code",
   "execution_count": 56,
   "metadata": {},
   "outputs": [
    {
     "name": "stdout",
     "output_type": "stream",
     "text": [
      "(7,) (7, 300) (3,) (3, 300)\n"
     ]
    }
   ],
   "source": [
    "# Option simil RASA NLU intent classification\n",
    "# Data preparation\n",
    "import spacy\n",
    "from sklearn.preprocessing import LabelEncoder\n",
    "\n",
    "# NOTE: we should take advantage of the split_train_test function here, this is just a simple example\n",
    "# Define the main corpus\n",
    "queries = ['hi', 'hello', 'morning', 'bye', 'see you!', 'Suggest me some mexican restaurants', 'im looking for restaurants']\n",
    "labels = ['greet', 'greet', 'greet', 'end_conversation', 'end_conversation', 'restaurant_search', 'restaurant_search']\n",
    "\n",
    "queries_test = ['hi there', 'goodbye', 'is there any chinese restaurants?']\n",
    "labels_test = ['greet',  'end_conversation',  'restaurant_search']\n",
    "\n",
    "# Tokenize the words for TRAIN\n",
    "nlp = spacy.load('en_core_web_lg')\n",
    "\n",
    "n_queries=len(queries)\n",
    "dim_embedding = nlp.vocab.vectors_length\n",
    "X = np.zeros((n_queries, dim_embedding))\n",
    "\n",
    "for idx, sentence in enumerate(queries):\n",
    "   doc = nlp(str(sentence))\n",
    "   X[idx, :] = doc.vector\n",
    "\n",
    "# Encode labels\n",
    "le = LabelEncoder()\n",
    "y = le.fit_transform(labels)\n",
    "\n",
    "# --------------------------------------------\n",
    "\n",
    "# Tokenize the words for TEST\n",
    "n_queries_test=len(queries_test)\n",
    "X_test = np.zeros((n_queries_test, dim_embedding))\n",
    "\n",
    "\n",
    "for idx, sentence in enumerate(queries_test):\n",
    "   doc = nlp(str(sentence))\n",
    "   X_test[idx, :] = doc.vector\n",
    "\n",
    "# Encode labels\n",
    "y_test = le.fit_transform(labels_test)\n",
    "print(y.shape, X.shape, y_test.shape, X_test.shape)"
   ]
  },
  {
   "cell_type": "code",
   "execution_count": 57,
   "metadata": {},
   "outputs": [
    {
     "name": "stdout",
     "output_type": "stream",
     "text": [
      "Fitting 2 folds for each of 6 candidates, totalling 12 fits\n",
      "['mean_fit_time', 'mean_score_time', 'mean_test_score', 'param_C', 'param_kernel', 'params', 'rank_test_score', 'split0_test_score', 'split1_test_score', 'std_fit_time', 'std_score_time', 'std_test_score']\n",
      "Accuracy on Test Set:  1.0\n"
     ]
    },
    {
     "name": "stderr",
     "output_type": "stream",
     "text": [
      "[Parallel(n_jobs=1)]: Using backend SequentialBackend with 1 concurrent workers.\n",
      "[Parallel(n_jobs=1)]: Done  12 out of  12 | elapsed:    0.0s finished\n"
     ]
    }
   ],
   "source": [
    "# Search for the best model\n",
    "import numpy as np\n",
    "from sklearn import svm, datasets\n",
    "from sklearn.model_selection import GridSearchCV\n",
    "\n",
    "defaults = {                              \n",
    "    \"C\": [1, 2, 5, 10, 20, 100],\n",
    "    \"kernels\": [\"linear\"], \"max_cross_validation_folds\": 5\n",
    "}\n",
    "\n",
    "C = defaults[\"C\"]                       \n",
    "kernels = defaults[\"kernels\"]\n",
    "\n",
    "tuned_parameters = [{\"C\": C, \"kernel\": [str(k) for k in kernels]}]                                                                 \n",
    "folds = defaults[\"max_cross_validation_folds\"]\n",
    "cv_splits = max(2, min(folds, np.min(np.bincount(y)) // 5))\n",
    "\n",
    "svc = svm.SVC(C=1, probability=True, class_weight='balanced')\n",
    "clf = GridSearchCV( \n",
    "    svc,\n",
    "    param_grid=tuned_parameters, n_jobs=1, cv=cv_splits,         \n",
    "    scoring='f1_weighted', verbose=1)\n",
    "clf.fit(X, y)\n",
    "\n",
    "print(sorted(clf.cv_results_.keys()))\n",
    "print(\"Accuracy on Test Set: \",np.count_nonzero(clf.predict(X_test)==y_test)/len(y_test))"
   ]
  },
  {
   "cell_type": "code",
   "execution_count": 64,
   "metadata": {},
   "outputs": [
    {
     "name": "stdout",
     "output_type": "stream",
     "text": [
      "[1]\n"
     ]
    },
    {
     "data": {
      "text/plain": [
       "array(['greet'], dtype='<U17')"
      ]
     },
     "execution_count": 64,
     "metadata": {},
     "output_type": "execute_result"
    }
   ],
   "source": [
    "# Intent classification\n",
    "\n",
    "X_test = np.array(nlp('hi there').vector).reshape(1, -1)                   \n",
    "pred_result = clf.predict(X_test)\n",
    "print(pred_result)\n",
    "\n",
    "le.inverse_transform(pred_result)"
   ]
  },
  {
   "cell_type": "code",
   "execution_count": 72,
   "metadata": {},
   "outputs": [
    {
     "name": "stdout",
     "output_type": "stream",
     "text": [
      "mexican NORP\n"
     ]
    }
   ],
   "source": [
    "# Extract Entities\n",
    "\n",
    "# Option 1 - Use spaCy, it should be sufficient to what we want to do\n",
    "# but for sure we are going to need to train it better for improved outcome --> https://spacy.io/usage/training#training-data\n",
    "# In the example below you can see that it did not recognize restaurant as a NOUN\n",
    "doc = nlp('Suggest me some mexican restaurant')\n",
    "\n",
    "for ent in doc.ents:\n",
    "    print(ent, ent.label_)\n",
    "\n",
    "\n",
    "# Option 2 - A specialized-recognizer by using sklearn https://sklearn-crfsuite.readthedocs.io/en/latest/tutorial.html"
   ]
  },
  {
   "cell_type": "code",
   "execution_count": null,
   "metadata": {},
   "outputs": [],
   "source": []
  }
 ],
 "metadata": {
  "kernelspec": {
   "display_name": "Python 3",
   "language": "python",
   "name": "python3"
  },
  "language_info": {
   "codemirror_mode": {
    "name": "ipython",
    "version": 3
   },
   "file_extension": ".py",
   "mimetype": "text/x-python",
   "name": "python",
   "nbconvert_exporter": "python",
   "pygments_lexer": "ipython3",
   "version": "3.7.6"
  },
  "toc": {
   "base_numbering": 1,
   "nav_menu": {},
   "number_sections": true,
   "sideBar": true,
   "skip_h1_title": false,
   "title_cell": "Table of Contents",
   "title_sidebar": "Contents",
   "toc_cell": false,
   "toc_position": {},
   "toc_section_display": true,
   "toc_window_display": false
  }
 },
 "nbformat": 4,
 "nbformat_minor": 4
}
