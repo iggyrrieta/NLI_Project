{
 "cells": [
  {
   "cell_type": "markdown",
   "metadata": {},
   "source": [
    "## Tests"
   ]
  },
  {
   "cell_type": "code",
   "execution_count": 1,
   "metadata": {},
   "outputs": [],
   "source": [
    "# NO WARNINGS\n",
    "import warnings\n",
    "warnings.filterwarnings('ignore')\n",
    "None\n",
    "# ROOT FOLDER (this way it's easier to access everywhere)\n",
    "import sys\n",
    "sys.path.insert(0, '../')"
   ]
  },
  {
   "cell_type": "code",
   "execution_count": 2,
   "metadata": {},
   "outputs": [],
   "source": [
    "from dm_core.main import DMCore"
   ]
  },
  {
   "cell_type": "markdown",
   "metadata": {},
   "source": [
    "**LOOP 0: Client says anything**"
   ]
  },
  {
   "cell_type": "code",
   "execution_count": 3,
   "metadata": {},
   "outputs": [],
   "source": [
    "client_in = 'I want to go see sagrada familia'"
   ]
  },
  {
   "cell_type": "markdown",
   "metadata": {},
   "source": [
    "**LOOP 0: Process input**"
   ]
  },
  {
   "cell_type": "code",
   "execution_count": 4,
   "metadata": {},
   "outputs": [
    {
     "name": "stdout",
     "output_type": "stream",
     "text": [
      "sagrada familia PERSON\n"
     ]
    },
    {
     "data": {
      "text/plain": [
       "DIALOGUE MANAGER\n",
       "----------------\n",
       "STARTED: True\n",
       "LAST_TEXT: I want to go see sagrada familia\n",
       "AGENT INTENTS: ['greet', 'goodbye', 'restaurant_search', 'interest_search']\n",
       "INTENT: interest_search\n",
       "TRACKER: INTEREST_SEARCH (ct_interest.ConversationTracker)\n",
       "----------------\n",
       "AGENT SLOTS FOR INTENT: ['date', 'info']\n",
       "AGENT ACTIONS FOR INTENT: [{'date': ''}, {'info': ''}]\n",
       "CONVERSATION LENGTH: 1 UTTERANCES RECEIVED"
      ]
     },
     "execution_count": 4,
     "metadata": {},
     "output_type": "execute_result"
    }
   ],
   "source": [
    "#dm_core gets predictions using module nlu_core\n",
    "dm = DMCore()\n",
    "dm.new_utterance(client_in)\n",
    "dm"
   ]
  },
  {
   "cell_type": "markdown",
   "metadata": {},
   "source": [
    "It is printing 'sagrada familia PERSON' because there is a print inside nlu_core that we should remove. **Anyway, WHY IT IS SAYING PERSON, IF THIS SAYS PERSON THEN I CANNOT ANALYZE THE PHRASE PROPERLY**"
   ]
  },
  {
   "cell_type": "code",
   "execution_count": 5,
   "metadata": {},
   "outputs": [
    {
     "data": {
      "text/plain": [
       "{'text': 'sagrada familia',\n",
       " 'address': 'Carrer de Mallorca, 401, 08013 Barcelona, España',\n",
       " 'name': 'Basílica de la Sagrada Família',\n",
       " 'rating': 4.7,\n",
       " 'opening_hours': {'open_now': True}}"
      ]
     },
     "execution_count": 5,
     "metadata": {},
     "output_type": "execute_result"
    }
   ],
   "source": [
    "# Check what gmap says\n",
    "dm.conversation_tracker.gmaps_info"
   ]
  },
  {
   "cell_type": "code",
   "execution_count": 6,
   "metadata": {},
   "outputs": [
    {
     "data": {
      "text/plain": [
       "'The Basílica de la Sagrada Família (Catalan: [bəˈzilikə ðə lə səˈɣɾaðə fəˈmiljə]; Spanish: Basílica de la Sagrada Familia; \\'Basilica of the Holy Family\\'), also known as the Sagrada Família, is a large unfinished Roman Catholic minor basilica in the Eixample district of Barcelona, Catalonia, Spain. Designed by Spanish/Catalan architect Antoni Gaudí (1852–1926), his work on the building is part of a UNESCO World Heritage Site. On 7 November 2010, Pope Benedict XVI consecrated the church and proclaimed it a minor basilica.On  19 March 1882, construction of the Sagrada Família began under architect Francisco de Paula del Villar. In 1883, when Villar resigned, Gaudí took over as chief architect, transforming the project with his architectural and engineering style, combining Gothic and curvilinear Art Nouveau forms. Gaudí devoted the remainder of his life to the project, and he is buried in the crypt. At the time of his death in 1926, less than a quarter of the project was complete.Relying solely on private donations, the Sagrada Família\\'s construction progressed slowly and was interrupted by the Spanish Civil War. In July 1936, revolutionaries set fire to the crypt and broke their way into the workshop, partially destroying Gaudí\\'s original plans, drawings and plaster models, which led to 16 years of work to piece together the fragments of the master model. Construction resumed to intermittent progress in the 1950s. Advancements in technologies such as computer aided design and computerised numerical control (CNC) have since enabled faster progress and construction passed the midpoint in 2010. However, some of the project\\'s greatest challenges remain, including the construction of ten more spires, each symbolising an important Biblical figure in the New Testament. It is anticipated that the building can be completed by 2026, the centenary of Gaudí\\'s death.The basilica has a long history of splitting opinion among the residents of Barcelona: over the initial possibility it might compete with Barcelona\\'s cathedral, over Gaudí\\'s design itself, over the possibility that work after Gaudí\\'s death disregarded his design, and the 2007 proposal to build a tunnel of Spain\\'s high-speed rail link to France which could disturb its stability. Describing the Sagrada Família, art critic Rainer Zerbst said \"it is probably impossible to find a church building anything like it in the entire history of art\", and Paul Goldberger describes it as \"the most extraordinary personal interpretation of Gothic architecture since the Middle Ages\". The basilica is not the cathedral church of the Archdiocese of Barcelona, as that title belongs to the Cathedral of the Holy Cross and Saint Eulalia.'"
      ]
     },
     "execution_count": 6,
     "metadata": {},
     "output_type": "execute_result"
    }
   ],
   "source": [
    "# Check what wikipedia says. I connected to wikipedia and removed the stopwords from sagrada familia description \n",
    "dm.conversation_tracker.wiki_info"
   ]
  },
  {
   "cell_type": "code",
   "execution_count": 7,
   "metadata": {},
   "outputs": [
    {
     "name": "stdout",
     "output_type": "stream",
     "text": [
      "1 - I want to go see sagrada familia\n"
     ]
    }
   ],
   "source": [
    "# History with its ID\n",
    "dm.conversation_tracker.print_history()"
   ]
  },
  {
   "cell_type": "code",
   "execution_count": 8,
   "metadata": {},
   "outputs": [
    {
     "data": {
      "text/plain": [
       "'Sure thing! I need some extra information, when do you want to visit Basílica de la Sagrada Família?'"
      ]
     },
     "execution_count": 8,
     "metadata": {},
     "output_type": "execute_result"
    }
   ],
   "source": [
    "# Q1\n",
    "dm.conversation_tracker.next_agent_action"
   ]
  },
  {
   "cell_type": "code",
   "execution_count": 9,
   "metadata": {},
   "outputs": [
    {
     "data": {
      "text/plain": [
       "[{'date': ''}, {'info': ''}]"
      ]
     },
     "execution_count": 9,
     "metadata": {},
     "output_type": "execute_result"
    }
   ],
   "source": [
    "# ACTIONS\n",
    "dm.conversation_tracker.agent_actions"
   ]
  },
  {
   "cell_type": "code",
   "execution_count": 15,
   "metadata": {},
   "outputs": [
    {
     "data": {
      "text/plain": [
       "''"
      ]
     },
     "execution_count": 15,
     "metadata": {},
     "output_type": "execute_result"
    }
   ],
   "source": [
    "dm.conversation_tracker.agent_actions[1]['info']"
   ]
  },
  {
   "cell_type": "code",
   "execution_count": null,
   "metadata": {},
   "outputs": [],
   "source": []
  },
  {
   "cell_type": "markdown",
   "metadata": {},
   "source": [
    "**LOOP 1: Client says anything**"
   ]
  },
  {
   "cell_type": "code",
   "execution_count": 7,
   "metadata": {},
   "outputs": [],
   "source": [
    "client_in = 'I want to go today, is it possible?'"
   ]
  },
  {
   "cell_type": "markdown",
   "metadata": {},
   "source": [
    "**LOOP 1: Process input**"
   ]
  },
  {
   "cell_type": "code",
   "execution_count": 9,
   "metadata": {},
   "outputs": [
    {
     "data": {
      "text/plain": [
       "DIALOGUE MANAGER\n",
       "----------------\n",
       "STARTED: True\n",
       "LAST_TEXT: How much does it cost?\n",
       "AGENT SLOTS: {'interest_search', 'greet', 'goodbye', 'restaurant_search'}\n",
       "INTENT: interest_search\n",
       "TRACKER: INTEREST_SEARCH (ct_interest.ConversationTracker)\n",
       "----------------"
      ]
     },
     "execution_count": 9,
     "metadata": {},
     "output_type": "execute_result"
    }
   ],
   "source": [
    "dm"
   ]
  },
  {
   "cell_type": "code",
   "execution_count": 10,
   "metadata": {},
   "outputs": [
    {
     "name": "stdout",
     "output_type": "stream",
     "text": [
      "I want to see Sagrada Familia\n",
      "How much does it cost?\n"
     ]
    }
   ],
   "source": [
    "dm.ct.print_history()"
   ]
  },
  {
   "cell_type": "code",
   "execution_count": 8,
   "metadata": {},
   "outputs": [
    {
     "data": {
      "text/plain": [
       "(Sagrada Familia,)"
      ]
     },
     "execution_count": 8,
     "metadata": {},
     "output_type": "execute_result"
    }
   ],
   "source": [
    "dm.detected_entities"
   ]
  },
  {
   "cell_type": "code",
   "execution_count": 12,
   "metadata": {
    "scrolled": true
   },
   "outputs": [
    {
     "data": {
      "text/plain": [
       "(Sagrada Familia,)"
      ]
     },
     "execution_count": 12,
     "metadata": {},
     "output_type": "execute_result"
    }
   ],
   "source": [
    "dm.detected_entities"
   ]
  },
  {
   "cell_type": "code",
   "execution_count": 11,
   "metadata": {},
   "outputs": [],
   "source": [
    "for ent in dm.detected_entities:\n",
    "    ent.label"
   ]
  },
  {
   "cell_type": "code",
   "execution_count": 22,
   "metadata": {},
   "outputs": [],
   "source": [
    "import wikipedia\n",
    "wiki_info = wikipedia.summary('Sagrada familia')"
   ]
  },
  {
   "cell_type": "code",
   "execution_count": 23,
   "metadata": {},
   "outputs": [
    {
     "data": {
      "text/plain": [
       "'The Basílica de la Sagrada Família (Catalan: [bəˈzilikə ðə lə səˈɣɾaðə fəˈmiljə]; Spanish: Basílica de la Sagrada Familia; \\'Basilica of the Holy Family\\'), also known as the Sagrada Família, is a large unfinished Roman Catholic minor basilica in the Eixample district of Barcelona, Catalonia, Spain. Designed by Spanish/Catalan architect Antoni Gaudí (1852–1926), his work on the building is part of a UNESCO World Heritage Site. On 7 November 2010, Pope Benedict XVI consecrated the church and proclaimed it a minor basilica.On  19 March 1882, construction of the Sagrada Família began under architect Francisco de Paula del Villar. In 1883, when Villar resigned, Gaudí took over as chief architect, transforming the project with his architectural and engineering style, combining Gothic and curvilinear Art Nouveau forms. Gaudí devoted the remainder of his life to the project, and he is buried in the crypt. At the time of his death in 1926, less than a quarter of the project was complete.Relying solely on private donations, the Sagrada Família\\'s construction progressed slowly and was interrupted by the Spanish Civil War. In July 1936, revolutionaries set fire to the crypt and broke their way into the workshop, partially destroying Gaudí\\'s original plans, drawings and plaster models, which led to 16 years of work to piece together the fragments of the master model. Construction resumed to intermittent progress in the 1950s. Advancements in technologies such as computer aided design and computerised numerical control (CNC) have since enabled faster progress and construction passed the midpoint in 2010. However, some of the project\\'s greatest challenges remain, including the construction of ten more spires, each symbolising an important Biblical figure in the New Testament. It is anticipated that the building can be completed by 2026, the centenary of Gaudí\\'s death.The basilica has a long history of splitting opinion among the residents of Barcelona: over the initial possibility it might compete with Barcelona\\'s cathedral, over Gaudí\\'s design itself, over the possibility that work after Gaudí\\'s death disregarded his design, and the 2007 proposal to build a tunnel of Spain\\'s high-speed rail link to France which could disturb its stability. Describing the Sagrada Família, art critic Rainer Zerbst said \"it is probably impossible to find a church building anything like it in the entire history of art\", and Paul Goldberger describes it as \"the most extraordinary personal interpretation of Gothic architecture since the Middle Ages\". The basilica is not the cathedral church of the Archdiocese of Barcelona, as that title belongs to the Cathedral of the Holy Cross and Saint Eulalia.'"
      ]
     },
     "execution_count": 23,
     "metadata": {},
     "output_type": "execute_result"
    }
   ],
   "source": [
    "wiki_info"
   ]
  },
  {
   "cell_type": "code",
   "execution_count": 13,
   "metadata": {},
   "outputs": [],
   "source": [
    "with open('../data/stopwords.txt', 'r') as file:\n",
    "    stopwords = [line.rstrip('\\n') for line in file]"
   ]
  },
  {
   "cell_type": "code",
   "execution_count": 16,
   "metadata": {},
   "outputs": [],
   "source": [
    "word_tokens = city_info.split()\n",
    "filtered_sentence = [] wiki_info\n",
    "\n",
    "for w in word_tokens: \n",
    "    if w not in stopwords: \n",
    "        filtered_sentence.append(w) "
   ]
  },
  {
   "cell_type": "code",
   "execution_count": 18,
   "metadata": {},
   "outputs": [
    {
     "data": {
      "text/plain": [
       "['The',\n",
       " 'Basílica',\n",
       " 'de',\n",
       " 'la',\n",
       " 'Sagrada',\n",
       " 'Família',\n",
       " '(Catalan:',\n",
       " '[bəˈzilikə',\n",
       " 'ðə',\n",
       " 'lə',\n",
       " 'səˈɣɾaðə',\n",
       " 'fəˈmiljə];',\n",
       " 'Spanish:',\n",
       " 'Basílica',\n",
       " 'de',\n",
       " 'la',\n",
       " 'Sagrada',\n",
       " 'Familia;',\n",
       " \"'Basilica\",\n",
       " 'Holy',\n",
       " \"Family'),\",\n",
       " 'also',\n",
       " 'known',\n",
       " 'Sagrada',\n",
       " 'Família,',\n",
       " 'large',\n",
       " 'unfinished',\n",
       " 'Roman',\n",
       " 'Catholic',\n",
       " 'minor',\n",
       " 'basilica',\n",
       " 'Eixample',\n",
       " 'district',\n",
       " 'Barcelona,',\n",
       " 'Catalonia,',\n",
       " 'Spain.',\n",
       " 'Designed',\n",
       " 'Spanish/Catalan',\n",
       " 'architect',\n",
       " 'Antoni',\n",
       " 'Gaudí',\n",
       " '(1852–1926),',\n",
       " 'work',\n",
       " 'building',\n",
       " 'part',\n",
       " 'UNESCO',\n",
       " 'World',\n",
       " 'Heritage',\n",
       " 'Site.',\n",
       " 'On',\n",
       " '7',\n",
       " 'November',\n",
       " '2010,',\n",
       " 'Pope',\n",
       " 'Benedict',\n",
       " 'XVI',\n",
       " 'consecrated',\n",
       " 'church',\n",
       " 'proclaimed',\n",
       " 'minor',\n",
       " 'basilica.On',\n",
       " '19',\n",
       " 'March',\n",
       " '1882,',\n",
       " 'construction',\n",
       " 'Sagrada',\n",
       " 'Família',\n",
       " 'began',\n",
       " 'architect',\n",
       " 'Francisco',\n",
       " 'de',\n",
       " 'Paula',\n",
       " 'del',\n",
       " 'Villar.',\n",
       " 'In',\n",
       " '1883,',\n",
       " 'Villar',\n",
       " 'resigned,',\n",
       " 'Gaudí',\n",
       " 'took',\n",
       " 'chief',\n",
       " 'architect,',\n",
       " 'transforming',\n",
       " 'project',\n",
       " 'architectural',\n",
       " 'engineering',\n",
       " 'style,',\n",
       " 'combining',\n",
       " 'Gothic',\n",
       " 'curvilinear',\n",
       " 'Art',\n",
       " 'Nouveau',\n",
       " 'forms.',\n",
       " 'Gaudí',\n",
       " 'devoted',\n",
       " 'remainder',\n",
       " 'life',\n",
       " 'project,',\n",
       " 'buried',\n",
       " 'crypt.',\n",
       " 'At',\n",
       " 'time',\n",
       " 'death',\n",
       " '1926,',\n",
       " 'less',\n",
       " 'quarter',\n",
       " 'project',\n",
       " 'complete.Relying',\n",
       " 'solely',\n",
       " 'private',\n",
       " 'donations,',\n",
       " 'Sagrada',\n",
       " \"Família's\",\n",
       " 'construction',\n",
       " 'progressed',\n",
       " 'slowly',\n",
       " 'interrupted',\n",
       " 'Spanish',\n",
       " 'Civil',\n",
       " 'War.',\n",
       " 'In',\n",
       " 'July',\n",
       " '1936,',\n",
       " 'revolutionaries',\n",
       " 'set',\n",
       " 'fire',\n",
       " 'crypt',\n",
       " 'broke',\n",
       " 'way',\n",
       " 'workshop,',\n",
       " 'partially',\n",
       " 'destroying',\n",
       " \"Gaudí's\",\n",
       " 'original',\n",
       " 'plans,',\n",
       " 'drawings',\n",
       " 'plaster',\n",
       " 'models,',\n",
       " 'led',\n",
       " '16',\n",
       " 'years',\n",
       " 'work',\n",
       " 'piece',\n",
       " 'together',\n",
       " 'fragments',\n",
       " 'master',\n",
       " 'model.',\n",
       " 'Construction',\n",
       " 'resumed',\n",
       " 'intermittent',\n",
       " 'progress',\n",
       " '1950s.',\n",
       " 'Advancements',\n",
       " 'technologies',\n",
       " 'computer',\n",
       " 'aided',\n",
       " 'design',\n",
       " 'computerised',\n",
       " 'numerical',\n",
       " 'control',\n",
       " '(CNC)',\n",
       " 'since',\n",
       " 'enabled',\n",
       " 'faster',\n",
       " 'progress',\n",
       " 'construction',\n",
       " 'passed',\n",
       " 'midpoint',\n",
       " '2010.',\n",
       " 'However,',\n",
       " \"project's\",\n",
       " 'greatest',\n",
       " 'challenges',\n",
       " 'remain,',\n",
       " 'including',\n",
       " 'construction',\n",
       " 'ten',\n",
       " 'spires,',\n",
       " 'symbolising',\n",
       " 'important',\n",
       " 'Biblical',\n",
       " 'figure',\n",
       " 'New',\n",
       " 'Testament.',\n",
       " 'It',\n",
       " 'anticipated',\n",
       " 'building',\n",
       " 'completed',\n",
       " '2026,',\n",
       " 'centenary',\n",
       " \"Gaudí's\",\n",
       " 'death.The',\n",
       " 'basilica',\n",
       " 'long',\n",
       " 'history',\n",
       " 'splitting',\n",
       " 'opinion',\n",
       " 'among',\n",
       " 'residents',\n",
       " 'Barcelona:',\n",
       " 'initial',\n",
       " 'possibility',\n",
       " 'might',\n",
       " 'compete',\n",
       " \"Barcelona's\",\n",
       " 'cathedral,',\n",
       " \"Gaudí's\",\n",
       " 'design',\n",
       " 'itself,',\n",
       " 'possibility',\n",
       " 'work',\n",
       " \"Gaudí's\",\n",
       " 'death',\n",
       " 'disregarded',\n",
       " 'design,',\n",
       " '2007',\n",
       " 'proposal',\n",
       " 'build',\n",
       " 'tunnel',\n",
       " \"Spain's\",\n",
       " 'high-speed',\n",
       " 'rail',\n",
       " 'link',\n",
       " 'France',\n",
       " 'could',\n",
       " 'disturb',\n",
       " 'stability.',\n",
       " 'Describing',\n",
       " 'Sagrada',\n",
       " 'Família,',\n",
       " 'art',\n",
       " 'critic',\n",
       " 'Rainer',\n",
       " 'Zerbst',\n",
       " 'said',\n",
       " '\"it',\n",
       " 'probably',\n",
       " 'impossible',\n",
       " 'find',\n",
       " 'church',\n",
       " 'building',\n",
       " 'anything',\n",
       " 'like',\n",
       " 'entire',\n",
       " 'history',\n",
       " 'art\",',\n",
       " 'Paul',\n",
       " 'Goldberger',\n",
       " 'describes',\n",
       " '\"the',\n",
       " 'extraordinary',\n",
       " 'personal',\n",
       " 'interpretation',\n",
       " 'Gothic',\n",
       " 'architecture',\n",
       " 'since',\n",
       " 'Middle',\n",
       " 'Ages\".',\n",
       " 'The',\n",
       " 'basilica',\n",
       " 'cathedral',\n",
       " 'church',\n",
       " 'Archdiocese',\n",
       " 'Barcelona,',\n",
       " 'title',\n",
       " 'belongs',\n",
       " 'Cathedral',\n",
       " 'Holy',\n",
       " 'Cross',\n",
       " 'Saint',\n",
       " 'Eulalia.']"
      ]
     },
     "execution_count": 18,
     "metadata": {},
     "output_type": "execute_result"
    }
   ],
   "source": [
    "filtered_sentence"
   ]
  },
  {
   "cell_type": "code",
   "execution_count": 27,
   "metadata": {},
   "outputs": [],
   "source": [
    "import re\n",
    "import unidecode\n",
    "\n",
    "# Remove `´ and not ñ    \n",
    "text = unidecode.unidecode(wiki_info.replace('ñ','-&-')).replace('-&-','ñ') \n",
    "# Remove , . space\n",
    "text = re.sub(\"[,.]\", \" \", text)\n",
    "text = re.sub(r'[^A-Za-zÑñ]', ' ', text)"
   ]
  },
  {
   "cell_type": "code",
   "execution_count": 28,
   "metadata": {},
   "outputs": [
    {
     "data": {
      "text/plain": [
       "'The Basilica de la Sagrada Familia  Catalan   b  zilik  d  l  s  grad  f  milj    Spanish  Basilica de la Sagrada Familia   Basilica of the Holy Family    also known as the Sagrada Familia  is a large unfinished Roman Catholic minor basilica in the Eixample district of Barcelona  Catalonia  Spain  Designed by Spanish Catalan architect Antoni Gaudi              his work on the building is part of a UNESCO World Heritage Site  On   November       Pope Benedict XVI consecrated the church and proclaimed it a minor basilica On     March       construction of the Sagrada Familia began under architect Francisco de Paula del Villar  In       when Villar resigned  Gaudi took over as chief architect  transforming the project with his architectural and engineering style  combining Gothic and curvilinear Art Nouveau forms  Gaudi devoted the remainder of his life to the project  and he is buried in the crypt  At the time of his death in       less than a quarter of the project was complete Relying solely on private donations  the Sagrada Familia s construction progressed slowly and was interrupted by the Spanish Civil War  In July       revolutionaries set fire to the crypt and broke their way into the workshop  partially destroying Gaudi s original plans  drawings and plaster models  which led to    years of work to piece together the fragments of the master model  Construction resumed to intermittent progress in the     s  Advancements in technologies such as computer aided design and computerised numerical control  CNC  have since enabled faster progress and construction passed the midpoint in       However  some of the project s greatest challenges remain  including the construction of ten more spires  each symbolising an important Biblical figure in the New Testament  It is anticipated that the building can be completed by       the centenary of Gaudi s death The basilica has a long history of splitting opinion among the residents of Barcelona  over the initial possibility it might compete with Barcelona s cathedral  over Gaudi s design itself  over the possibility that work after Gaudi s death disregarded his design  and the      proposal to build a tunnel of Spain s high speed rail link to France which could disturb its stability  Describing the Sagrada Familia  art critic Rainer Zerbst said  it is probably impossible to find a church building anything like it in the entire history of art   and Paul Goldberger describes it as  the most extraordinary personal interpretation of Gothic architecture since the Middle Ages   The basilica is not the cathedral church of the Archdiocese of Barcelona  as that title belongs to the Cathedral of the Holy Cross and Saint Eulalia '"
      ]
     },
     "execution_count": 28,
     "metadata": {},
     "output_type": "execute_result"
    }
   ],
   "source": [
    "text"
   ]
  },
  {
   "cell_type": "code",
   "execution_count": null,
   "metadata": {},
   "outputs": [],
   "source": []
  }
 ],
 "metadata": {
  "kernelspec": {
   "display_name": "Python 3",
   "language": "python",
   "name": "python3"
  },
  "language_info": {
   "codemirror_mode": {
    "name": "ipython",
    "version": 3
   },
   "file_extension": ".py",
   "mimetype": "text/x-python",
   "name": "python",
   "nbconvert_exporter": "python",
   "pygments_lexer": "ipython3",
   "version": "3.8.2"
  },
  "toc": {
   "base_numbering": 1,
   "nav_menu": {},
   "number_sections": true,
   "sideBar": true,
   "skip_h1_title": false,
   "title_cell": "Table of Contents",
   "title_sidebar": "Contents",
   "toc_cell": false,
   "toc_position": {},
   "toc_section_display": true,
   "toc_window_display": false
  }
 },
 "nbformat": 4,
 "nbformat_minor": 2
}
